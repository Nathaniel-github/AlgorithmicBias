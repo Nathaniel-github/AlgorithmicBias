{
 "cells": [
  {
   "cell_type": "code",
   "execution_count": 1,
   "id": "disciplinary-virginia",
   "metadata": {},
   "outputs": [],
   "source": [
    "import face_recognition\n",
    "import pickle\n",
    "import pandas as pd\n",
    "from tqdm import tqdm"
   ]
  },
  {
   "cell_type": "code",
   "execution_count": 2,
   "id": "impressed-teacher",
   "metadata": {},
   "outputs": [
    {
     "name": "stderr",
     "output_type": "stream",
     "text": [
      "100%|██████████| 69827/69827 [2:14:15<00:00,  8.67it/s]   \n"
     ]
    },
    {
     "ename": "TypeError",
     "evalue": "dump() missing required argument 'file' (pos 2)",
     "output_type": "error",
     "traceback": [
      "\u001b[0;31m---------------------------------------------------------------------------\u001b[0m",
      "\u001b[0;31mTypeError\u001b[0m                                 Traceback (most recent call last)",
      "\u001b[0;32m<ipython-input-2-67e2e0a4fae2>\u001b[0m in \u001b[0;36m<module>\u001b[0;34m\u001b[0m\n\u001b[1;32m     11\u001b[0m         \u001b[0mfailed_sex\u001b[0m\u001b[0;34m.\u001b[0m\u001b[0mappend\u001b[0m\u001b[0;34m(\u001b[0m\u001b[0mfailed_person\u001b[0m\u001b[0;34m[\u001b[0m\u001b[0;34m'Sex'\u001b[0m\u001b[0;34m]\u001b[0m\u001b[0;34m.\u001b[0m\u001b[0miloc\u001b[0m\u001b[0;34m[\u001b[0m\u001b[0;36m0\u001b[0m\u001b[0;34m]\u001b[0m\u001b[0;34m)\u001b[0m\u001b[0;34m\u001b[0m\u001b[0;34m\u001b[0m\u001b[0m\n\u001b[1;32m     12\u001b[0m \u001b[0;32mwith\u001b[0m \u001b[0mopen\u001b[0m\u001b[0;34m(\u001b[0m\u001b[0;34m\"failed_names\"\u001b[0m\u001b[0;34m,\u001b[0m \u001b[0;34m'wb'\u001b[0m\u001b[0;34m)\u001b[0m \u001b[0;32mas\u001b[0m \u001b[0mf\u001b[0m\u001b[0;34m:\u001b[0m\u001b[0;34m\u001b[0m\u001b[0;34m\u001b[0m\u001b[0m\n\u001b[0;32m---> 13\u001b[0;31m     \u001b[0mpickle\u001b[0m\u001b[0;34m.\u001b[0m\u001b[0mdump\u001b[0m\u001b[0;34m(\u001b[0m\u001b[0mfailed_images\u001b[0m\u001b[0;34m)\u001b[0m\u001b[0;34m\u001b[0m\u001b[0;34m\u001b[0m\u001b[0m\n\u001b[0m\u001b[1;32m     14\u001b[0m \u001b[0;32mwith\u001b[0m \u001b[0mopen\u001b[0m\u001b[0;34m(\u001b[0m\u001b[0;34m\"failed_race\"\u001b[0m\u001b[0;34m,\u001b[0m \u001b[0;34m'wb'\u001b[0m\u001b[0;34m)\u001b[0m \u001b[0;32mas\u001b[0m \u001b[0mf\u001b[0m\u001b[0;34m:\u001b[0m\u001b[0;34m\u001b[0m\u001b[0;34m\u001b[0m\u001b[0m\n\u001b[1;32m     15\u001b[0m     \u001b[0mpickle\u001b[0m\u001b[0;34m.\u001b[0m\u001b[0mdump\u001b[0m\u001b[0;34m(\u001b[0m\u001b[0mfailed_race\u001b[0m\u001b[0;34m)\u001b[0m\u001b[0;34m\u001b[0m\u001b[0;34m\u001b[0m\u001b[0m\n",
      "\u001b[0;31mTypeError\u001b[0m: dump() missing required argument 'file' (pos 2)"
     ]
    }
   ],
   "source": [
    "df = pd.read_csv(\"labels_utf8.csv\")\n",
    "failed_images = list()\n",
    "failed_race = list()\n",
    "failed_sex = list()\n",
    "\n",
    "for name in tqdm(df['ID']):\n",
    "    if len(face_recognition.face_encodings(face_recognition.load_image_file(f\"/Users/nathaniel/Downloads/mugshots/front/front/{name}\"))) == 0:\n",
    "        failed_person = df[df['ID'] == name]\n",
    "        failed_images.append(name)\n",
    "        failed_race.append(failed_person['Race'].iloc[0])\n",
    "        failed_sex.append(failed_person['Sex'].iloc[0])"
   ]
  },
  {
   "cell_type": "code",
   "execution_count": 19,
   "id": "specialized-employer",
   "metadata": {},
   "outputs": [],
   "source": [
    "with open(\"failed_names\", 'wb') as f:\n",
    "    pickle.dump(failed_images, f)\n",
    "with open(\"failed_race\", 'wb') as f:\n",
    "    pickle.dump(failed_race, f)\n",
    "with open(\"failed_sex\", 'wb') as f:\n",
    "    pickle.dump(failed_sex, f)"
   ]
  },
  {
   "cell_type": "code",
   "execution_count": 3,
   "id": "regional-demographic",
   "metadata": {},
   "outputs": [],
   "source": [
    "from matplotlib import pyplot as plt"
   ]
  },
  {
   "cell_type": "code",
   "execution_count": 4,
   "id": "treated-shock",
   "metadata": {},
   "outputs": [
    {
     "data": {
      "text/plain": [
       "<Figure size 432x288 with 0 Axes>"
      ]
     },
     "metadata": {},
     "output_type": "display_data"
    }
   ],
   "source": [
    "fig = plt.figure()"
   ]
  },
  {
   "cell_type": "code",
   "execution_count": 11,
   "id": "strong-driving",
   "metadata": {},
   "outputs": [],
   "source": [
    "fr = pd.Series(failed_race)"
   ]
  },
  {
   "cell_type": "code",
   "execution_count": 13,
   "id": "higher-silver",
   "metadata": {},
   "outputs": [
    {
     "data": {
      "text/plain": [
       "Black    120\n",
       "White     15\n",
       "dtype: int64"
      ]
     },
     "execution_count": 13,
     "metadata": {},
     "output_type": "execute_result"
    }
   ],
   "source": [
    "fr.value_counts()"
   ]
  },
  {
   "cell_type": "code",
   "execution_count": 14,
   "id": "integrated-money",
   "metadata": {},
   "outputs": [],
   "source": [
    "fs = pd.Series(failed_sex)"
   ]
  },
  {
   "cell_type": "code",
   "execution_count": 15,
   "id": "expressed-truck",
   "metadata": {},
   "outputs": [
    {
     "data": {
      "text/plain": [
       "Male      134\n",
       "Female      1\n",
       "dtype: int64"
      ]
     },
     "execution_count": 15,
     "metadata": {},
     "output_type": "execute_result"
    }
   ],
   "source": [
    "fs.value_counts()"
   ]
  },
  {
   "cell_type": "code",
   "execution_count": 17,
   "id": "shared-watson",
   "metadata": {},
   "outputs": [
    {
     "data": {
      "text/plain": [
       "Black            39282\n",
       "White            21158\n",
       "Hispanic          8910\n",
       "Asian              256\n",
       "Amer Indian        102\n",
       "Bi-Racial           82\n",
       "Not Available       37\n",
       "Name: Race, dtype: int64"
      ]
     },
     "execution_count": 17,
     "metadata": {},
     "output_type": "execute_result"
    }
   ],
   "source": [
    "df['Race'].value_counts()"
   ]
  },
  {
   "cell_type": "code",
   "execution_count": 18,
   "id": "dedicated-spokesman",
   "metadata": {},
   "outputs": [
    {
     "data": {
      "text/plain": [
       "Male      64944\n",
       "Female     4883\n",
       "Name: Sex, dtype: int64"
      ]
     },
     "execution_count": 18,
     "metadata": {},
     "output_type": "execute_result"
    }
   ],
   "source": [
    "df['Sex'].value_counts()"
   ]
  },
  {
   "cell_type": "code",
   "execution_count": 33,
   "id": "polish-ladder",
   "metadata": {},
   "outputs": [
    {
     "name": "stdout",
     "output_type": "stream",
     "text": [
      "Percentage of unrecognized faces that were African American: 0.8888888888888888\n"
     ]
    }
   ],
   "source": [
    "num_unrecognized_black = len(fr[fr=='Black'])\n",
    "print(f\"Percentage of unrecognized faces that were African American: {num_unrecognized_black/len(fr)}\")"
   ]
  },
  {
   "cell_type": "code",
   "execution_count": 34,
   "id": "pretty-revolution",
   "metadata": {},
   "outputs": [
    {
     "name": "stdout",
     "output_type": "stream",
     "text": [
      "Percentage of faces in the dataset that were African American: 0.5625617597777364\n"
     ]
    }
   ],
   "source": [
    "races = df['Race']\n",
    "num_black = len(races[races=='Black'])\n",
    "print(f\"Percentage of faces in the dataset that were African American: {num_black/len(races)}\")"
   ]
  },
  {
   "cell_type": "code",
   "execution_count": 35,
   "id": "civic-mongolia",
   "metadata": {},
   "outputs": [
    {
     "name": "stdout",
     "output_type": "stream",
     "text": [
      "Percentage of African American faces recognized: 0.9969451657247594\n"
     ]
    }
   ],
   "source": [
    "print(f\"Percentage of African American faces recognized: {(num_black - num_unrecognized_black)/num_black}\")"
   ]
  },
  {
   "cell_type": "code",
   "execution_count": 36,
   "id": "wired-walker",
   "metadata": {},
   "outputs": [
    {
     "name": "stdout",
     "output_type": "stream",
     "text": [
      "Percentage of unrecognized faces that were White: 0.1111111111111111\n"
     ]
    }
   ],
   "source": [
    "num_unrecognized_white = len(fr[fr=='White'])\n",
    "print(f\"Percentage of unrecognized faces that were White: {num_unrecognized_white/len(fr)}\")"
   ]
  },
  {
   "cell_type": "code",
   "execution_count": 37,
   "id": "verified-brook",
   "metadata": {},
   "outputs": [
    {
     "name": "stdout",
     "output_type": "stream",
     "text": [
      "Percentage of faces in the dataset that were White: 0.3030060005442021\n"
     ]
    }
   ],
   "source": [
    "num_white = len(races[races=='White'])\n",
    "print(f\"Percentage of faces in the dataset that were White: {num_white/len(races)}\")"
   ]
  },
  {
   "cell_type": "code",
   "execution_count": 38,
   "id": "fourth-resource",
   "metadata": {},
   "outputs": [
    {
     "name": "stdout",
     "output_type": "stream",
     "text": [
      "Percentage of White faces recognized: 0.9992910483032422\n"
     ]
    }
   ],
   "source": [
    "print(f\"Percentage of White faces recognized: {(num_white - num_unrecognized_white)/num_white}\")"
   ]
  },
  {
   "cell_type": "code",
   "execution_count": 39,
   "id": "buried-ancient",
   "metadata": {},
   "outputs": [
    {
     "data": {
      "image/png": "[encoded data removed]",
      "text/plain": [
       "<Figure size 432x288 with 1 Axes>"
      ]
     },
     "metadata": {
      "needs_background": "light"
     },
     "output_type": "display_data"
    }
   ],
   "source": [
    "import numpy as np\n",
    "  \n",
    "X = ['White', 'Black']\n",
    "Y = [num_white/len(races), num_black/len(races)]\n",
    "Z = [num_unrecognized_white/len(fr), num_unrecognized_black/len(fr)]\n",
    "  \n",
    "X_axis = np.arange(len(X))\n",
    "  \n",
    "plt.bar(X_axis - 0.2, Y, 0.4, label = 'Dataset')\n",
    "plt.bar(X_axis + 0.2, Z, 0.4, label = 'Failures')\n",
    "  \n",
    "plt.xticks(X_axis, X)\n",
    "plt.xlabel(\"Race\")\n",
    "plt.ylabel(\"Percentage\")\n",
    "plt.title(\"Percentages of race as part of dataset and failures\")\n",
    "plt.legend()\n",
    "plt.show()"
   ]
  },
  {
   "cell_type": "code",
   "execution_count": null,
   "id": "upset-curtis",
   "metadata": {},
   "outputs": [],
   "source": []
  }
 ],
 "metadata": {
  "kernelspec": {
   "display_name": "Python 3",
   "language": "python",
   "name": "python3"
  },
  "language_info": {
   "codemirror_mode": {
    "name": "ipython",
    "version": 3
   },
   "file_extension": ".py",
   "mimetype": "text/x-python",
   "name": "python",
   "nbconvert_exporter": "python",
   "pygments_lexer": "ipython3",
   "version": "3.8.5"
  }
 },
 "nbformat": 4,
 "nbformat_minor": 5
}
