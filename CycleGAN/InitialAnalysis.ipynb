{
 "cells": [
  {
   "cell_type": "code",
   "execution_count": 1,
   "id": "disciplinary-virginia",
   "metadata": {},
   "outputs": [],
   "source": [
    "import face_recognition\n",
    "import pickle\n",
    "import pandas as pd\n",
    "from tqdm import tqdm"
   ]
  },
  {
   "cell_type": "code",
   "execution_count": null,
   "id": "impressed-teacher",
   "metadata": {},
   "outputs": [
    {
     "name": "stderr",
     "output_type": "stream",
     "text": [
      " 48%|████▊     | 33277/69827 [1:09:38<2:01:53,  5.00it/s]"
     ]
    }
   ],
   "source": [
    "df = pd.read_csv(\"labels_utf8.csv\")\n",
    "failed_images = list()\n",
    "failed_race = list()\n",
    "failed_sex = list()\n",
    "\n",
    "for name in tqdm(df['ID']):\n",
    "    if len(face_recognition.face_encodings(face_recognition.load_image_file(f\"/Users/nathaniel/Downloads/mugshots/front/front/{name}\"))) == 0:\n",
    "        failed_person = df[df['ID'] == name]\n",
    "        failed_images.append(name)\n",
    "        failed_race.append(failed_person['Race'].iloc[0])\n",
    "        failed_sex.append(failed_person['Sex'].iloc[0])"
   ]
  },
  {
   "cell_type": "code",
   "execution_count": null,
   "id": "specialized-employer",
   "metadata": {},
   "outputs": [],
   "source": []
  }
 ],
 "metadata": {
  "kernelspec": {
   "display_name": "Python 3",
   "language": "python",
   "name": "python3"
  },
  "language_info": {
   "codemirror_mode": {
    "name": "ipython",
    "version": 3
   },
   "file_extension": ".py",
   "mimetype": "text/x-python",
   "name": "python",
   "nbconvert_exporter": "python",
   "pygments_lexer": "ipython3",
   "version": "3.8.5"
  }
 },
 "nbformat": 4,
 "nbformat_minor": 5
}
