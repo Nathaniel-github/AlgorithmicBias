{
 "cells": [
  {
   "cell_type": "code",
   "execution_count": 5,
   "id": "disciplinary-virginia",
   "metadata": {},
   "outputs": [],
   "source": [
    "import face_recognition\n",
    "import pickle\n",
    "import pandas as pd\n",
    "from tqdm import tqdm"
   ]
  },
  {
   "cell_type": "code",
   "execution_count": 16,
   "id": "impressed-teacher",
   "metadata": {},
   "outputs": [],
   "source": [
    "df = pd.read_csv(\"labels_utf8.csv\")\n",
    "\n",
    "for name in tqdm(df['ID']):\n",
    "    try:\n",
    "        encodings.append(face_recognition.face_encodings(face_recognition.load_image_file(f\"mugshots/front/front/{name}\"), num_jitters=5, model='large')[0])\n",
    "    except Exception as e:\n",
    "        print(f\"Failed on {name}\")\n",
    "        print(f\"Race of person in image failure: {df.loc[df['ID'] == name]['Race']}\")"
   ]
  },
  {
   "cell_type": "code",
   "execution_count": null,
   "id": "specialized-employer",
   "metadata": {},
   "outputs": [],
   "source": []
  }
 ],
 "metadata": {
  "kernelspec": {
   "display_name": "Python 3",
   "language": "python",
   "name": "python3"
  },
  "language_info": {
   "codemirror_mode": {
    "name": "ipython",
    "version": 3
   },
   "file_extension": ".py",
   "mimetype": "text/x-python",
   "name": "python",
   "nbconvert_exporter": "python",
   "pygments_lexer": "ipython3",
   "version": "3.8.5"
  }
 },
 "nbformat": 4,
 "nbformat_minor": 5
}
